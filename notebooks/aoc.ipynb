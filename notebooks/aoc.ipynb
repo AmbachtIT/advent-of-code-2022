{
 "cells": [
  {
   "cell_type": "markdown",
   "metadata": {},
   "source": [
    "# Advent Of Code 2022"
   ]
  },
  {
   "cell_type": "code",
   "execution_count": 1,
   "metadata": {
    "vscode": {
     "languageId": "dotnet-interactive.csharp"
    }
   },
   "outputs": [],
   "source": [
    "using System.IO;"
   ]
  },
  {
   "cell_type": "markdown",
   "metadata": {},
   "source": [
    "## Day 1"
   ]
  },
  {
   "cell_type": "code",
   "execution_count": 2,
   "metadata": {
    "dotnet_interactive": {
     "language": "csharp"
    },
    "vscode": {
     "languageId": "dotnet-interactive.csharp"
    }
   },
   "outputs": [
    {
     "name": "stdout",
     "output_type": "stream",
     "text": [
      "69289\n"
     ]
    }
   ],
   "source": [
    "IEnumerable<int> ReadCalories() {\n",
    "    var total = 0;\n",
    "    foreach(var line in File.ReadLines(\"../data/in-1.txt\")) {\n",
    "        if(int.TryParse(line, out var value)) {\n",
    "            total += value;\n",
    "        }\n",
    "        else {\n",
    "            yield return total;\n",
    "            total = 0;\n",
    "        }\n",
    "    }\n",
    "    yield return total;\n",
    "}\n",
    "\n",
    "Console.WriteLine(ReadCalories().Max());"
   ]
  },
  {
   "cell_type": "markdown",
   "metadata": {},
   "source": [
    "# Day 3"
   ]
  },
  {
   "cell_type": "code",
   "execution_count": 10,
   "metadata": {
    "dotnet_interactive": {
     "language": "csharp"
    },
    "vscode": {
     "languageId": "dotnet-interactive.csharp"
    }
   },
   "outputs": [
    {
     "name": "stdout",
     "output_type": "stream",
     "text": [
      "7763\n",
      "2569\n"
     ]
    }
   ],
   "source": [
    "public class Day3 {\n",
    "\n",
    "    int GetPriority(string str) \n",
    "    {\n",
    "        long contains = 0;\n",
    "        var half = str.Length / 2;\n",
    "        for(var i=0; i<half; i++) \n",
    "        {\n",
    "            var prio = GetPriority(str[i]);\n",
    "            var mask = 1L << prio;\n",
    "            contains |= mask;\n",
    "        }\n",
    "        for(var i=0; i<half; i++) \n",
    "        {\n",
    "            var prio = GetPriority(str[i + half]);\n",
    "            var mask = 1L << prio;\n",
    "            if((contains & mask) > 1) {\n",
    "                return prio;\n",
    "            }\n",
    "        }\n",
    "        return 0;\n",
    "    }\n",
    "    \n",
    "    int GetPriority(char c) \n",
    "    {\n",
    "        if(c > 'Z') \n",
    "        {\n",
    "            return (int)(c - 'a') + 1;\n",
    "        }\n",
    "        return (int)(c - 'A') + 27;\n",
    "    }\n",
    "    \n",
    "    int Run3_1(string file) {\n",
    "        return\n",
    "            File\n",
    "            .ReadLines(file)\n",
    "            .Select(l => GetPriority(l))\n",
    "            .Sum();\n",
    "    }\n",
    "\n",
    "    int GetPriority(string str1, string str2, string str3) \n",
    "    {\n",
    "        var chars = str1.Distinct().Concat(str2.Distinct()).Concat(str3.Distinct());\n",
    "        var c = \n",
    "            chars\n",
    "            .GroupBy(c => c)\n",
    "            .Single(g => g.Count() == 3)\n",
    "            .Key;\n",
    "        return GetPriority(c);\n",
    "    }\n",
    "    \n",
    "    \n",
    "    IEnumerable<int> Run3_2(string file) {\n",
    "        var lines = File.ReadLines(file).ToList();\n",
    "        for(var i=0; i<lines.Count; i+=3) {\n",
    "            yield return GetPriority(lines[i], lines[i+1], lines[i+2]);\n",
    "        }\n",
    "    }\n",
    "    \n",
    "\n",
    "    public void Run() {\n",
    "        Console.WriteLine(Run3_1(\"../data/in-3.txt\"));\n",
    "        Console.WriteLine(Run3_2(\"../data/in-3.txt\").Sum());\n",
    "    }\n",
    "}\n",
    "\n",
    "new Day3().Run();\n"
   ]
  },
  {
   "cell_type": "markdown",
   "metadata": {},
   "source": [
    "# Day 4"
   ]
  },
  {
   "cell_type": "code",
   "execution_count": 18,
   "metadata": {
    "dotnet_interactive": {
     "language": "csharp"
    },
    "vscode": {
     "languageId": "dotnet-interactive.csharp"
    }
   },
   "outputs": [
    {
     "name": "stdout",
     "output_type": "stream",
     "text": [
      "651\n",
      "956\n"
     ]
    }
   ],
   "source": [
    "public class Day4 {\n",
    "    public class Range {\n",
    "        public Range(int from, int to) {\n",
    "            if(to < from) {\n",
    "                throw new ArgumentException();\n",
    "            }\n",
    "            this.From = from;\n",
    "            this.To = to;\n",
    "        }\n",
    "\n",
    "        public int From;\n",
    "        public int To;\n",
    "\n",
    "        public bool Contains(int n) => From <= n && n <= To;\n",
    "\n",
    "        public bool FullyContains(Range other) => Contains(other.From) && Contains(other.To);\n",
    "\n",
    "        public bool Overlaps(Range other) {\n",
    "            if(other.To < this.From) {\n",
    "                return false;\n",
    "            }\n",
    "            if(other.From > this.To) {\n",
    "                return false;\n",
    "            }\n",
    "            return true;\n",
    "        }\n",
    "\n",
    "        public static Range Parse(string str) {\n",
    "            var parts = str.Split('-');\n",
    "            return new Range(int.Parse(parts[0]), int.Parse(parts[1]));\n",
    "        }\n",
    "    }\n",
    "\n",
    "    public int Run1(string file) {\n",
    "        var count = 0;\n",
    "        foreach(var line in File.ReadAllLines(file)) {\n",
    "            var parts = line.Split(',');\n",
    "            var range1 = Range.Parse(parts[0]);\n",
    "            var range2 = Range.Parse(parts[1]);\n",
    "            if(range1.FullyContains(range2) || range2.FullyContains(range1)) {\n",
    "                count++;\n",
    "            }\n",
    "        }\n",
    "        return count;\n",
    "    }\n",
    "\n",
    "    public int Run2(string file) {\n",
    "        var count = 0;\n",
    "        foreach(var line in File.ReadAllLines(file)) {\n",
    "            var parts = line.Split(',');\n",
    "            var range1 = Range.Parse(parts[0]);\n",
    "            var range2 = Range.Parse(parts[1]);\n",
    "            if(range1.Overlaps(range2)) {\n",
    "                count++;\n",
    "            }\n",
    "        }\n",
    "        return count;\n",
    "    }\n",
    "\n",
    "\n",
    "    public void Run() {\n",
    "        Console.WriteLine(Run1(\"../data/in-4.txt\"));\n",
    "        Console.WriteLine(Run2(\"../data/in-4.txt\"));\n",
    "    }\n",
    "}\n",
    "\n",
    "new Day4().Run();"
   ]
  },
  {
   "cell_type": "markdown",
   "metadata": {},
   "source": [
    "# Day 5\n"
   ]
  },
  {
   "cell_type": "code",
   "execution_count": 14,
   "metadata": {
    "dotnet_interactive": {
     "language": "csharp"
    },
    "vscode": {
     "languageId": "dotnet-interactive.csharp"
    }
   },
   "outputs": [
    {
     "name": "stdout",
     "output_type": "stream",
     "text": [
      "1 [Q] [S] [W] [C] [Z] [V] [F] [T]\n",
      "2 [Q] [R] [B]\n",
      "3 [B] [Z] [T] [Q] [P] [M] [S]\n",
      "4 [D] [V] [F] [R] [Q] [H]\n",
      "5 [J] [G] [L] [D] [B] [S] [T] [P]\n",
      "6 [W] [R] [T] [Z]\n",
      "7 [H] [Q] [M] [N] [S] [F] [R] [J]\n",
      "8 [R] [N] [F] [H] [W]\n",
      "9 [J] [Z] [T] [Q] [P] [R] [B]\n",
      "10\n",
      "11\n",
      "\n",
      "1 [T]\n",
      "2 [D]\n",
      "3 [B] [N] [F] [R] [R] [V] [B] [S] [G]\n",
      "4 [R] [J]\n",
      "5 [F] [M] [S] [Q]\n",
      "6 [W] [Q] [B] [J] [Z] [R] [H] [T]\n",
      "7 [B] [M] [Q] [F] [J] [Z] [S] [Q] [Q] [T] [D] [T] [V] [N] [P] [R] [P] [H] [T] [W] [F] [C] [P] [H] [W] [R] [Z]\n",
      "8 [S]\n",
      "9 [Q] [Z] [L]\n",
      "10\n",
      "11\n",
      "\n",
      "End state: TDGJQTZSL\n",
      "\n"
     ]
    }
   ],
   "source": [
    "public class Day5 {\n",
    "\n",
    "    public class Yard {\n",
    "        public Yard(int size) {\n",
    "            for(var i=0; i<size; i++)  {\n",
    "                Stacks.Add(new());\n",
    "            }\n",
    "        }\n",
    "        public List<LinkedList<char>> Stacks = new ();\n",
    "\n",
    "        public void Move(Move move, int mode) {\n",
    "            if(mode == 9000) {\n",
    "                Move9000(move);\n",
    "            }\n",
    "            if(mode == 9001) {\n",
    "                Move9001(move);\n",
    "            }\n",
    "        }\n",
    "\n",
    "        public void Move9000(Move move) {\n",
    "            for(var i=0; i<move.Quantity; i++) {\n",
    "                var item = Stacks[move.From].First.Value;\n",
    "                Stacks[move.From].RemoveFirst();\n",
    "                Stacks[move.To].AddFirst(item);\n",
    "            }\n",
    "        }\n",
    "\n",
    "        public void Move9001(Move move) {\n",
    "            var items = new List<char>();            \n",
    "            for(var i=0; i<move.Quantity; i++) {\n",
    "                var item = Stacks[move.From].First.Value;\n",
    "                Stacks[move.From].RemoveFirst();\n",
    "                items.Add(item);\n",
    "            }\n",
    "            for(var i=0; i<move.Quantity; i++) {\n",
    "                Stacks[move.To].AddFirst(items[items.Count - i - 1]);\n",
    "            }\n",
    "        }\n",
    "\n",
    "        public void Print() {\n",
    "            for(var i=0; i<Stacks.Count; i++) {\n",
    "                Console.Write($\"{i + 1}\");\n",
    "                foreach(var c in Stacks[i].Reverse()) {\n",
    "                    Console.Write($\" [{c}]\");\n",
    "                }\n",
    "                Console.WriteLine();\n",
    "            }\n",
    "        }\n",
    "\n",
    "        public string State() {\n",
    "            var result = new StringBuilder();\n",
    "            foreach(var stack in Stacks) {\n",
    "                if(stack.Any()) {\n",
    "                    result.Append(stack.First());\n",
    "                }\n",
    "            }\n",
    "            return result.ToString();\n",
    "        }\n",
    "    }\n",
    "\n",
    "    public class Move {\n",
    "        public int Quantity;\n",
    "        public int From;\n",
    "        public int To;\n",
    "        public static Move Parse(string str) {\n",
    "            var parts = str.Split(' ');\n",
    "            return new Move() {\n",
    "                Quantity = int.Parse(parts[1]),\n",
    "                From = int.Parse(parts[3]) - 1,\n",
    "                To = int.Parse(parts[5]) - 1,\n",
    "            };\n",
    "        }\n",
    "    }\n",
    "\n",
    "    public void Run(string file, int mode) {\n",
    "        var lines = File.ReadAllLines(file);\n",
    "        var i = 0;\n",
    "        string line;\n",
    "        do {\n",
    "            line = lines[i++];\n",
    "        } while(!string.IsNullOrEmpty(line));\n",
    "        var size = lines[0].Length;\n",
    "        var yard = new Yard(size / 3);\n",
    "        for(var l = 0; l < i - 1; l++) {\n",
    "            for(var x = 0; x < size; x++) {\n",
    "                var index = x * 4 + 1;\n",
    "                if(index < lines[l].Length) {\n",
    "                    var c = lines[l][index];\n",
    "                    if(c >= 'A' && c <= 'Z') {\n",
    "                        yard.Stacks[x].AddLast(c);\n",
    "                    }\n",
    "                }\n",
    "            }\n",
    "        }\n",
    "        yard.Print();\n",
    "        Console.WriteLine();\n",
    "        \n",
    "        while(i < lines.Length) {\n",
    "            line = lines[i++];\n",
    "            var move = Move.Parse(line);\n",
    "            yard.Move(move, mode);\n",
    "        }\n",
    "        yard.Print();\n",
    "        Console.WriteLine();\n",
    "        Console.WriteLine($\"End state: {yard.State()}\");\n",
    "        Console.WriteLine();\n",
    "    }\n",
    "\n",
    "\n",
    "}\n",
    "\n",
    "//new Day5().Run(\"../data/in-5.txt\", 9000);\n",
    "new Day5().Run(\"../data/in-5.txt\", 9001);\n"
   ]
  },
  {
   "cell_type": "markdown",
   "metadata": {},
   "source": [
    "# Day 6"
   ]
  },
  {
   "cell_type": "code",
   "execution_count": null,
   "metadata": {
    "dotnet_interactive": {
     "language": "csharp"
    },
    "vscode": {
     "languageId": "dotnet-interactive.csharp"
    }
   },
   "outputs": [],
   "source": []
  },
  {
   "cell_type": "code",
   "execution_count": 33,
   "metadata": {
    "dotnet_interactive": {
     "language": "csharp"
    },
    "vscode": {
     "languageId": "dotnet-interactive.csharp"
    }
   },
   "outputs": [
    {
     "name": "stdout",
     "output_type": "stream",
     "text": [
      "Found marker: zwcjgmvbptdsln\n",
      "3452\n"
     ]
    }
   ],
   "source": [
    "public class Day6\n",
    "{\n",
    "\n",
    "    public const int MarkerSize = 14;\n",
    "    private int Parse(string line) {\n",
    "        var buffer = new char[MarkerSize];\n",
    "        for(var i=0; i<line.Length; i++) {\n",
    "            buffer[i % MarkerSize] = line[i];\n",
    "            if(i >= MarkerSize) {\n",
    "                if(!ContainsDuplicate(buffer)) {\n",
    "                    Console.WriteLine($\"Found marker: {string.Join(\"\", buffer)}\");\n",
    "                    return i + 1;\n",
    "                }\n",
    "            }\n",
    "        }\n",
    "        return line.Length + 1;\n",
    "    }\n",
    "\n",
    "    private bool ContainsDuplicate(char[] buffer) {\n",
    "        var set = new HashSet<char>(buffer);\n",
    "        return set.Count != MarkerSize;\n",
    "    }\n",
    "\n",
    "\n",
    "    public void Run(string file) {\n",
    "        foreach(var line in File.ReadAllLines(file)) {\n",
    "            Console.WriteLine(Parse(line));\n",
    "        }\n",
    "    }\n",
    "\n",
    "}\n",
    "\n",
    "new Day6().Run(\"../data/in-6.txt\");"
   ]
  },
  {
   "cell_type": "markdown",
   "metadata": {},
   "source": [
    "# Day 7"
   ]
  },
  {
   "cell_type": "code",
   "execution_count": null,
   "metadata": {
    "dotnet_interactive": {
     "language": "csharp"
    },
    "vscode": {
     "languageId": "dotnet-interactive.csharp"
    }
   },
   "outputs": [],
   "source": []
  },
  {
   "cell_type": "code",
   "execution_count": 8,
   "metadata": {
    "dotnet_interactive": {
     "language": "csharp"
    },
    "vscode": {
     "languageId": "dotnet-interactive.csharp"
    }
   },
   "outputs": [
    {
     "name": "stdout",
     "output_type": "stream",
     "text": [
      "hdsaasdasd\n"
     ]
    },
    {
     "ename": "Error",
     "evalue": "System.InvalidCastException: Unable to cast object of type 'System.ArrayEnumerator' to type 'System.Collections.Generic.IEnumerator`1[System.String]'.\n   at Submission#8.Day7.Run(String file)\n   at Submission#8.<<Initialize>>d__0.MoveNext()\n--- End of stack trace from previous location ---\n   at Microsoft.CodeAnalysis.Scripting.ScriptExecutionState.RunSubmissionsAsync[TResult](ImmutableArray`1 precedingExecutors, Func`2 currentExecutor, StrongBox`1 exceptionHolderOpt, Func`2 catchExceptionOpt, CancellationToken cancellationToken)",
     "output_type": "error",
     "traceback": [
      "System.InvalidCastException: Unable to cast object of type 'System.ArrayEnumerator' to type 'System.Collections.Generic.IEnumerator`1[System.String]'.\n",
      "   at Submission#8.Day7.Run(String file)\n",
      "   at Submission#8.<<Initialize>>d__0.MoveNext()\n",
      "--- End of stack trace from previous location ---\n",
      "   at Microsoft.CodeAnalysis.Scripting.ScriptExecutionState.RunSubmissionsAsync[TResult](ImmutableArray`1 precedingExecutors, Func`2 currentExecutor, StrongBox`1 exceptionHolderOpt, Func`2 catchExceptionOpt, CancellationToken cancellationToken)"
     ]
    }
   ],
   "source": [
    "public class Day7 {\n",
    "\n",
    "    public class Directory {\n",
    "        public Directory Parent;\n",
    "        public Dictionary<string, Directory> Directories = new();\n",
    "        public Dictionary<string, long> Files = new();\n",
    "\n",
    "\n",
    "\n",
    "        public void Print(StringBuilder builder, string name, int indent) {\n",
    "            builder.Append(\"\".PadLeft(indent * 2));\n",
    "            builder.AppendLine($\"{name} (dir)\");\n",
    "            foreach(var dir in Directories) {\n",
    "                Print(builder, dir.Key, indent + 1);\n",
    "            }\n",
    "            foreach(var file in Files) {\n",
    "                builder.Append(\"\".PadLeft(indent * 2));\n",
    "                builder.AppendLine($\"{file.Key} (file, size = {file.Value})\");\n",
    "            }\n",
    "        }    \n",
    "    }\n",
    "\n",
    "    public void Run(string file) {\n",
    "        var lines = (IEnumerator<string>)File.ReadAllLines(file).GetEnumerator();\n",
    "        Directory currentDir = null;\n",
    "        while(lines.MoveNext()) {\n",
    "            if(lines.Current.StartsWith(\"$ \")) {\n",
    "                var parts = lines.Current.Substring(2).Split(' ');\n",
    "                if(parts[0] == \"cd\") {\n",
    "                    if(parts[1] == \"/\") {\n",
    "                        currentDir = new Directory();\n",
    "                    }\n",
    "                    else if(parts[1] == \"..\") {\n",
    "                        if(currentDir.Parent == null) {\n",
    "                            throw new InvalidOperationException();\n",
    "                        }\n",
    "                        else {\n",
    "                            currentDir = currentDir.Parent;\n",
    "                        }\n",
    "                    }\n",
    "                    else {\n",
    "                        currentDir = currentDir.Directories[parts[1]];\n",
    "                    }\n",
    "                }\n",
    "                else if(parts[0] == \"ls\") {\n",
    "                    \n",
    "                }\n",
    "                else {\n",
    "                    var parts2 = lines.Current.Split(' ');\n",
    "                    if(parts[0] == \"dir\") {\n",
    "                        currentDir.Directories.Add(parts[1], new Directory() {\n",
    "                            Parent = currentDir\n",
    "                        });\n",
    "                    }\n",
    "                    else {\n",
    "                        currentDir.Files.Add(parts[1], long.Parse(parts[0]));\n",
    "                    }\n",
    "                }\n",
    "            }\n",
    "            else {\n",
    "                throw new InvalidOperationException();\n",
    "            }\n",
    "        }\n",
    "\n",
    "        var root = currentDir;\n",
    "        while(root.Parent != null) {\n",
    "            root = root.Parent;\n",
    "        }\n",
    "\n",
    "        var builder = new StringBuilder();\n",
    "        root.Print(builder, \"/\", 0);\n",
    "        //Console.WriteLine(builder.ToString());\n",
    "        Console.WriteLine(\"hdsa\");\n",
    "    }\n",
    "\n",
    "\n",
    "\n",
    "}\n",
    "Console.WriteLine(\"hdsaasdasd\");\n",
    "\n",
    "new Day7().Run(\"../data/test-7.txt\");"
   ]
  }
 ],
 "metadata": {
  "kernelspec": {
   "display_name": ".NET (C#)",
   "language": "C#",
   "name": ".net-csharp"
  },
  "language_info": {
   "file_extension": ".cs",
   "mimetype": "text/x-csharp",
   "name": "C#",
   "pygments_lexer": "csharp",
   "version": "9.0"
  },
  "orig_nbformat": 4
 },
 "nbformat": 4,
 "nbformat_minor": 2
}
