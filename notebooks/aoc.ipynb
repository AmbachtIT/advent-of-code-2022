{
 "cells": [
  {
   "cell_type": "markdown",
   "metadata": {
    "dotnet_interactive": {
     "language": "csharp"
    },
    "polyglot_notebook": {
     "kernelName": "csharp"
    }
   },
   "source": [
    "# Advent Of Code 2022"
   ]
  },
  {
   "cell_type": "code",
   "execution_count": 1,
   "metadata": {
    "dotnet_interactive": {
     "language": "csharp"
    },
    "polyglot_notebook": {
     "kernelName": "csharp"
    },
    "vscode": {
     "languageId": "csharp"
    }
   },
   "outputs": [
    {
     "data": {
      "text/html": [
       "\r\n",
       "<div>\r\n",
       "    <div id='dotnet-interactive-this-cell-5919.Microsoft.DotNet.Interactive.Http.HttpPort' style='display: none'>\r\n",
       "        The below script needs to be able to find the current output cell; this is an easy method to get it.\r\n",
       "    </div>\r\n",
       "    <script type='text/javascript'>\r\n",
       "async function probeAddresses(probingAddresses) {\r\n",
       "    function timeout(ms, promise) {\r\n",
       "        return new Promise(function (resolve, reject) {\r\n",
       "            setTimeout(function () {\r\n",
       "                reject(new Error('timeout'))\r\n",
       "            }, ms)\r\n",
       "            promise.then(resolve, reject)\r\n",
       "        })\r\n",
       "    }\r\n",
       "\r\n",
       "    if (Array.isArray(probingAddresses)) {\r\n",
       "        for (let i = 0; i < probingAddresses.length; i++) {\r\n",
       "\r\n",
       "            let rootUrl = probingAddresses[i];\r\n",
       "\r\n",
       "            if (!rootUrl.endsWith('/')) {\r\n",
       "                rootUrl = `${rootUrl}/`;\r\n",
       "            }\r\n",
       "\r\n",
       "            try {\r\n",
       "                let response = await timeout(1000, fetch(`${rootUrl}discovery`, {\r\n",
       "                    method: 'POST',\r\n",
       "                    cache: 'no-cache',\r\n",
       "                    mode: 'cors',\r\n",
       "                    timeout: 1000,\r\n",
       "                    headers: {\r\n",
       "                        'Content-Type': 'text/plain'\r\n",
       "                    },\r\n",
       "                    body: probingAddresses[i]\r\n",
       "                }));\r\n",
       "\r\n",
       "                if (response.status == 200) {\r\n",
       "                    return rootUrl;\r\n",
       "                }\r\n",
       "            }\r\n",
       "            catch (e) { }\r\n",
       "        }\r\n",
       "    }\r\n",
       "}\r\n",
       "\r\n",
       "function loadDotnetInteractiveApi() {\r\n",
       "    probeAddresses([\"http://172.16.5.4:2048/\", \"http://127.0.0.1:2048/\"])\r\n",
       "        .then((root) => {\r\n",
       "        // use probing to find host url and api resources\r\n",
       "        // load interactive helpers and language services\r\n",
       "        let dotnetInteractiveRequire = require.config({\r\n",
       "        context: '5919.Microsoft.DotNet.Interactive.Http.HttpPort',\r\n",
       "                paths:\r\n",
       "            {\r\n",
       "                'dotnet-interactive': `${root}resources`\r\n",
       "                }\r\n",
       "        }) || require;\r\n",
       "\r\n",
       "            window.dotnetInteractiveRequire = dotnetInteractiveRequire;\r\n",
       "\r\n",
       "            window.configureRequireFromExtension = function(extensionName, extensionCacheBuster) {\r\n",
       "                let paths = {};\r\n",
       "                paths[extensionName] = `${root}extensions/${extensionName}/resources/`;\r\n",
       "                \r\n",
       "                let internalRequire = require.config({\r\n",
       "                    context: extensionCacheBuster,\r\n",
       "                    paths: paths,\r\n",
       "                    urlArgs: `cacheBuster=${extensionCacheBuster}`\r\n",
       "                    }) || require;\r\n",
       "\r\n",
       "                return internalRequire\r\n",
       "            };\r\n",
       "        \r\n",
       "            dotnetInteractiveRequire([\r\n",
       "                    'dotnet-interactive/dotnet-interactive'\r\n",
       "                ],\r\n",
       "                function (dotnet) {\r\n",
       "                    dotnet.init(window);\r\n",
       "                },\r\n",
       "                function (error) {\r\n",
       "                    console.log(error);\r\n",
       "                }\r\n",
       "            );\r\n",
       "        })\r\n",
       "        .catch(error => {console.log(error);});\r\n",
       "    }\r\n",
       "\r\n",
       "// ensure `require` is available globally\r\n",
       "if ((typeof(require) !==  typeof(Function)) || (typeof(require.config) !== typeof(Function))) {\r\n",
       "    let require_script = document.createElement('script');\r\n",
       "    require_script.setAttribute('src', 'https://cdnjs.cloudflare.com/ajax/libs/require.js/2.3.6/require.min.js');\r\n",
       "    require_script.setAttribute('type', 'text/javascript');\r\n",
       "    \r\n",
       "    \r\n",
       "    require_script.onload = function() {\r\n",
       "        loadDotnetInteractiveApi();\r\n",
       "    };\r\n",
       "\r\n",
       "    document.getElementsByTagName('head')[0].appendChild(require_script);\r\n",
       "}\r\n",
       "else {\r\n",
       "    loadDotnetInteractiveApi();\r\n",
       "}\r\n",
       "\r\n",
       "    </script>\r\n",
       "</div>"
      ]
     },
     "metadata": {},
     "output_type": "display_data"
    }
   ],
   "source": [
    "using System.IO;"
   ]
  },
  {
   "cell_type": "markdown",
   "metadata": {
    "dotnet_interactive": {
     "language": "csharp"
    },
    "polyglot_notebook": {
     "kernelName": "csharp"
    }
   },
   "source": [
    "## Day 1"
   ]
  },
  {
   "cell_type": "code",
   "execution_count": null,
   "metadata": {
    "dotnet_interactive": {
     "language": "csharp"
    },
    "vscode": {
     "languageId": "csharp"
    }
   },
   "outputs": [],
   "source": [
    "IEnumerable<int> ReadCalories() {\n",
    "    var total = 0;\n",
    "    foreach(var line in File.ReadLines(\"../data/in-1.txt\")) {\n",
    "        if(int.TryParse(line, out var value)) {\n",
    "            total += value;\n",
    "        }\n",
    "        else {\n",
    "            yield return total;\n",
    "            total = 0;\n",
    "        }\n",
    "    }\n",
    "    yield return total;\n",
    "}\n",
    "\n",
    "Console.WriteLine(ReadCalories().Max());"
   ]
  },
  {
   "cell_type": "markdown",
   "metadata": {
    "dotnet_interactive": {
     "language": "csharp"
    },
    "polyglot_notebook": {
     "kernelName": "csharp"
    }
   },
   "source": [
    "# Day 3"
   ]
  },
  {
   "cell_type": "code",
   "execution_count": null,
   "metadata": {
    "dotnet_interactive": {
     "language": "csharp"
    },
    "vscode": {
     "languageId": "csharp"
    }
   },
   "outputs": [],
   "source": [
    "public class Day3 {\n",
    "\n",
    "    int GetPriority(string str) \n",
    "    {\n",
    "        long contains = 0;\n",
    "        var half = str.Length / 2;\n",
    "        for(var i=0; i<half; i++) \n",
    "        {\n",
    "            var prio = GetPriority(str[i]);\n",
    "            var mask = 1L << prio;\n",
    "            contains |= mask;\n",
    "        }\n",
    "        for(var i=0; i<half; i++) \n",
    "        {\n",
    "            var prio = GetPriority(str[i + half]);\n",
    "            var mask = 1L << prio;\n",
    "            if((contains & mask) > 1) {\n",
    "                return prio;\n",
    "            }\n",
    "        }\n",
    "        return 0;\n",
    "    }\n",
    "    \n",
    "    int GetPriority(char c) \n",
    "    {\n",
    "        if(c > 'Z') \n",
    "        {\n",
    "            return (int)(c - 'a') + 1;\n",
    "        }\n",
    "        return (int)(c - 'A') + 27;\n",
    "    }\n",
    "    \n",
    "    int Run3_1(string file) {\n",
    "        return\n",
    "            File\n",
    "            .ReadLines(file)\n",
    "            .Select(l => GetPriority(l))\n",
    "            .Sum();\n",
    "    }\n",
    "\n",
    "    int GetPriority(string str1, string str2, string str3) \n",
    "    {\n",
    "        var chars = str1.Distinct().Concat(str2.Distinct()).Concat(str3.Distinct());\n",
    "        var c = \n",
    "            chars\n",
    "            .GroupBy(c => c)\n",
    "            .Single(g => g.Count() == 3)\n",
    "            .Key;\n",
    "        return GetPriority(c);\n",
    "    }\n",
    "    \n",
    "    \n",
    "    IEnumerable<int> Run3_2(string file) {\n",
    "        var lines = File.ReadLines(file).ToList();\n",
    "        for(var i=0; i<lines.Count; i+=3) {\n",
    "            yield return GetPriority(lines[i], lines[i+1], lines[i+2]);\n",
    "        }\n",
    "    }\n",
    "    \n",
    "\n",
    "    public void Run() {\n",
    "        Console.WriteLine(Run3_1(\"../data/in-3.txt\"));\n",
    "        Console.WriteLine(Run3_2(\"../data/in-3.txt\").Sum());\n",
    "    }\n",
    "}\n",
    "\n",
    "new Day3().Run();\n"
   ]
  },
  {
   "cell_type": "markdown",
   "metadata": {
    "dotnet_interactive": {
     "language": "csharp"
    },
    "polyglot_notebook": {
     "kernelName": "csharp"
    }
   },
   "source": [
    "# Day 4"
   ]
  },
  {
   "cell_type": "code",
   "execution_count": null,
   "metadata": {
    "dotnet_interactive": {
     "language": "csharp"
    },
    "vscode": {
     "languageId": "csharp"
    }
   },
   "outputs": [],
   "source": [
    "public class Day4 {\n",
    "    public class Range {\n",
    "        public Range(int from, int to) {\n",
    "            if(to < from) {\n",
    "                throw new ArgumentException();\n",
    "            }\n",
    "            this.From = from;\n",
    "            this.To = to;\n",
    "        }\n",
    "\n",
    "        public int From;\n",
    "        public int To;\n",
    "\n",
    "        public bool Contains(int n) => From <= n && n <= To;\n",
    "\n",
    "        public bool FullyContains(Range other) => Contains(other.From) && Contains(other.To);\n",
    "\n",
    "        public bool Overlaps(Range other) {\n",
    "            if(other.To < this.From) {\n",
    "                return false;\n",
    "            }\n",
    "            if(other.From > this.To) {\n",
    "                return false;\n",
    "            }\n",
    "            return true;\n",
    "        }\n",
    "\n",
    "        public static Range Parse(string str) {\n",
    "            var parts = str.Split('-');\n",
    "            return new Range(int.Parse(parts[0]), int.Parse(parts[1]));\n",
    "        }\n",
    "    }\n",
    "\n",
    "    public int Run1(string file) {\n",
    "        var count = 0;\n",
    "        foreach(var line in File.ReadAllLines(file)) {\n",
    "            var parts = line.Split(',');\n",
    "            var range1 = Range.Parse(parts[0]);\n",
    "            var range2 = Range.Parse(parts[1]);\n",
    "            if(range1.FullyContains(range2) || range2.FullyContains(range1)) {\n",
    "                count++;\n",
    "            }\n",
    "        }\n",
    "        return count;\n",
    "    }\n",
    "\n",
    "    public int Run2(string file) {\n",
    "        var count = 0;\n",
    "        foreach(var line in File.ReadAllLines(file)) {\n",
    "            var parts = line.Split(',');\n",
    "            var range1 = Range.Parse(parts[0]);\n",
    "            var range2 = Range.Parse(parts[1]);\n",
    "            if(range1.Overlaps(range2)) {\n",
    "                count++;\n",
    "            }\n",
    "        }\n",
    "        return count;\n",
    "    }\n",
    "\n",
    "\n",
    "    public void Run() {\n",
    "        Console.WriteLine(Run1(\"../data/in-4.txt\"));\n",
    "        Console.WriteLine(Run2(\"../data/in-4.txt\"));\n",
    "    }\n",
    "}\n",
    "\n",
    "new Day4().Run();"
   ]
  },
  {
   "cell_type": "markdown",
   "metadata": {
    "dotnet_interactive": {
     "language": "csharp"
    },
    "polyglot_notebook": {
     "kernelName": "csharp"
    }
   },
   "source": [
    "# Day 5\n"
   ]
  },
  {
   "cell_type": "code",
   "execution_count": null,
   "metadata": {
    "dotnet_interactive": {
     "language": "csharp"
    },
    "vscode": {
     "languageId": "csharp"
    }
   },
   "outputs": [],
   "source": [
    "public class Day5 {\n",
    "\n",
    "    public class Yard {\n",
    "        public Yard(int size) {\n",
    "            for(var i=0; i<size; i++)  {\n",
    "                Stacks.Add(new());\n",
    "            }\n",
    "        }\n",
    "        public List<LinkedList<char>> Stacks = new ();\n",
    "\n",
    "        public void Move(Move move, int mode) {\n",
    "            if(mode == 9000) {\n",
    "                Move9000(move);\n",
    "            }\n",
    "            if(mode == 9001) {\n",
    "                Move9001(move);\n",
    "            }\n",
    "        }\n",
    "\n",
    "        public void Move9000(Move move) {\n",
    "            for(var i=0; i<move.Quantity; i++) {\n",
    "                var item = Stacks[move.From].First.Value;\n",
    "                Stacks[move.From].RemoveFirst();\n",
    "                Stacks[move.To].AddFirst(item);\n",
    "            }\n",
    "        }\n",
    "\n",
    "        public void Move9001(Move move) {\n",
    "            var items = new List<char>();            \n",
    "            for(var i=0; i<move.Quantity; i++) {\n",
    "                var item = Stacks[move.From].First.Value;\n",
    "                Stacks[move.From].RemoveFirst();\n",
    "                items.Add(item);\n",
    "            }\n",
    "            for(var i=0; i<move.Quantity; i++) {\n",
    "                Stacks[move.To].AddFirst(items[items.Count - i - 1]);\n",
    "            }\n",
    "        }\n",
    "\n",
    "        public void Print() {\n",
    "            for(var i=0; i<Stacks.Count; i++) {\n",
    "                Console.Write($\"{i + 1}\");\n",
    "                foreach(var c in Stacks[i].Reverse()) {\n",
    "                    Console.Write($\" [{c}]\");\n",
    "                }\n",
    "                Console.WriteLine();\n",
    "            }\n",
    "        }\n",
    "\n",
    "        public string State() {\n",
    "            var result = new StringBuilder();\n",
    "            foreach(var stack in Stacks) {\n",
    "                if(stack.Any()) {\n",
    "                    result.Append(stack.First());\n",
    "                }\n",
    "            }\n",
    "            return result.ToString();\n",
    "        }\n",
    "    }\n",
    "\n",
    "    public class Move {\n",
    "        public int Quantity;\n",
    "        public int From;\n",
    "        public int To;\n",
    "        public static Move Parse(string str) {\n",
    "            var parts = str.Split(' ');\n",
    "            return new Move() {\n",
    "                Quantity = int.Parse(parts[1]),\n",
    "                From = int.Parse(parts[3]) - 1,\n",
    "                To = int.Parse(parts[5]) - 1,\n",
    "            };\n",
    "        }\n",
    "    }\n",
    "\n",
    "    public void Run(string file, int mode) {\n",
    "        var lines = File.ReadAllLines(file);\n",
    "        var i = 0;\n",
    "        string line;\n",
    "        do {\n",
    "            line = lines[i++];\n",
    "        } while(!string.IsNullOrEmpty(line));\n",
    "        var size = lines[0].Length;\n",
    "        var yard = new Yard(size / 3);\n",
    "        for(var l = 0; l < i - 1; l++) {\n",
    "            for(var x = 0; x < size; x++) {\n",
    "                var index = x * 4 + 1;\n",
    "                if(index < lines[l].Length) {\n",
    "                    var c = lines[l][index];\n",
    "                    if(c >= 'A' && c <= 'Z') {\n",
    "                        yard.Stacks[x].AddLast(c);\n",
    "                    }\n",
    "                }\n",
    "            }\n",
    "        }\n",
    "        yard.Print();\n",
    "        Console.WriteLine();\n",
    "        \n",
    "        while(i < lines.Length) {\n",
    "            line = lines[i++];\n",
    "            var move = Move.Parse(line);\n",
    "            yard.Move(move, mode);\n",
    "        }\n",
    "        yard.Print();\n",
    "        Console.WriteLine();\n",
    "        Console.WriteLine($\"End state: {yard.State()}\");\n",
    "        Console.WriteLine();\n",
    "    }\n",
    "\n",
    "\n",
    "}\n",
    "\n",
    "//new Day5().Run(\"../data/in-5.txt\", 9000);\n",
    "new Day5().Run(\"../data/in-5.txt\", 9001);\n"
   ]
  },
  {
   "cell_type": "markdown",
   "metadata": {
    "dotnet_interactive": {
     "language": "csharp"
    },
    "polyglot_notebook": {
     "kernelName": "csharp"
    }
   },
   "source": [
    "# Day 6"
   ]
  },
  {
   "cell_type": "code",
   "execution_count": null,
   "metadata": {
    "dotnet_interactive": {
     "language": "csharp"
    },
    "vscode": {
     "languageId": "csharp"
    }
   },
   "outputs": [],
   "source": []
  },
  {
   "cell_type": "code",
   "execution_count": null,
   "metadata": {
    "dotnet_interactive": {
     "language": "csharp"
    },
    "vscode": {
     "languageId": "csharp"
    }
   },
   "outputs": [],
   "source": [
    "public class Day6\n",
    "{\n",
    "\n",
    "    public const int MarkerSize = 14;\n",
    "    private int Parse(string line) {\n",
    "        var buffer = new char[MarkerSize];\n",
    "        for(var i=0; i<line.Length; i++) {\n",
    "            buffer[i % MarkerSize] = line[i];\n",
    "            if(i >= MarkerSize) {\n",
    "                if(!ContainsDuplicate(buffer)) {\n",
    "                    Console.WriteLine($\"Found marker: {string.Join(\"\", buffer)}\");\n",
    "                    return i + 1;\n",
    "                }\n",
    "            }\n",
    "        }\n",
    "        return line.Length + 1;\n",
    "    }\n",
    "\n",
    "    private bool ContainsDuplicate(char[] buffer) {\n",
    "        var set = new HashSet<char>(buffer);\n",
    "        return set.Count != MarkerSize;\n",
    "    }\n",
    "\n",
    "\n",
    "    public void Run(string file) {\n",
    "        foreach(var line in File.ReadAllLines(file)) {\n",
    "            Console.WriteLine(Parse(line));\n",
    "        }\n",
    "    }\n",
    "\n",
    "}\n",
    "\n",
    "new Day6().Run(\"../data/in-6.txt\");"
   ]
  },
  {
   "cell_type": "markdown",
   "metadata": {
    "dotnet_interactive": {
     "language": "csharp"
    },
    "polyglot_notebook": {
     "kernelName": "csharp"
    }
   },
   "source": [
    "# Day 7"
   ]
  },
  {
   "cell_type": "code",
   "execution_count": null,
   "metadata": {
    "dotnet_interactive": {
     "language": "csharp"
    },
    "vscode": {
     "languageId": "csharp"
    }
   },
   "outputs": [],
   "source": []
  },
  {
   "cell_type": "code",
   "execution_count": null,
   "metadata": {
    "dotnet_interactive": {
     "language": "csharp"
    },
    "vscode": {
     "languageId": "csharp"
    }
   },
   "outputs": [],
   "source": [
    "public class Day7 {\n",
    "\n",
    "    public class Directory {\n",
    "        public string Name;\n",
    "        public Directory Parent;\n",
    "        public Dictionary<string, Directory> Directories = new();\n",
    "        public Dictionary<string, long> Files = new();\n",
    "        public bool Visited;\n",
    "        public long TotalSize() => Directories.Sum(d => d.Value.TotalSize()) + Files.Sum(f => f.Value);\n",
    "\n",
    "\n",
    "        public IEnumerable<Directory> All() {\n",
    "            yield return this;\n",
    "            foreach(var kv in Directories) {\n",
    "                foreach(var a in kv.Value.All()) {\n",
    "                    yield return a;\n",
    "                }\n",
    "            }\n",
    "        }\n",
    "\n",
    "\n",
    "        public void Print(StringBuilder builder, string name, int indent) {\n",
    "            if(Visited) {\n",
    "                throw new InvalidOperationException(\"already visited\");\n",
    "            }\n",
    "            Visited = true;\n",
    "            builder.Append(\"\".PadLeft(indent * 2));\n",
    "            builder.AppendLine($\"{name} (dir)\");\n",
    "            foreach(var dir in Directories) {\n",
    "                dir.Value.Print(builder, dir.Key, indent + 1);\n",
    "            }\n",
    "            foreach(var file in Files) {\n",
    "                builder.Append(\"\".PadLeft(indent * 2));\n",
    "                builder.AppendLine($\"  {file.Key} (file, size = {file.Value})\");\n",
    "            }\n",
    "        }    \n",
    "    }\n",
    "\n",
    "    public void Run(string file) {\n",
    "        var lines = File.ReadAllLines(file).GetEnumerator();\n",
    "        Directory currentDir = null;\n",
    "        Directory root = null;\n",
    "        while(lines.MoveNext()) {\n",
    "            if(lines.Current.ToString().StartsWith(\"$ \")) {\n",
    "                var parts = lines.Current.ToString().Substring(2).Split(' ');\n",
    "                if(parts[0] == \"cd\") {\n",
    "                    if(parts[1] == \"/\") {\n",
    "                        currentDir = root = new Directory() { Name = \"/\" };\n",
    "                    }\n",
    "                    else if(parts[1] == \"..\") {\n",
    "                        if(currentDir.Parent == null) {\n",
    "                            throw new InvalidOperationException();\n",
    "                        }\n",
    "                        else {\n",
    "                            currentDir = currentDir.Parent;\n",
    "                        }\n",
    "                    }\n",
    "                    else {\n",
    "                        currentDir = currentDir.Directories[parts[1]];\n",
    "                    }\n",
    "                }\n",
    "                else if(parts[0] == \"ls\") {\n",
    "                    \n",
    "                }\n",
    "            }\n",
    "            else {\n",
    "                var parts2 = lines.Current.ToString().Split(' ');\n",
    "                if(parts2[0] == \"dir\") {\n",
    "                    currentDir.Directories.Add(parts2[1], new Directory() {\n",
    "                        Name = parts2[1],\n",
    "                        Parent = currentDir\n",
    "                    });\n",
    "                }\n",
    "                else {\n",
    "                    currentDir.Files.Add(parts2[1], long.Parse(parts2[0]));\n",
    "                }\n",
    "            }\n",
    "        }\n",
    "\n",
    "        var builder = new StringBuilder();\n",
    "        root.Print(builder, \"/\", 0);\n",
    "        //Console.WriteLine(builder.ToString());\n",
    "\n",
    "        var total = \n",
    "            root\n",
    "            .All()\n",
    "            .Where(d => d.TotalSize() <= 100000)\n",
    "            .Sum(d => d.TotalSize());\n",
    "        Console.WriteLine(total);\n",
    "        \n",
    "        var unused = 70000000 - root.TotalSize();\n",
    "        var needed = 30000000 - unused;\n",
    "        Console.WriteLine($\"We need to free up {needed} bytes\");\n",
    "        var best = \n",
    "            root\n",
    "            .All()\n",
    "            .Where(d => d.TotalSize() >= needed)\n",
    "            .OrderBy(d => d.TotalSize())\n",
    "            .First();\n",
    "        Console.WriteLine($\"We should pick {best.Name}, increasing total size by {best.TotalSize()}\");\n",
    "\n",
    "    }\n",
    "}\n",
    "\n",
    "new Day7().Run(\"../data/in-7.txt\");"
   ]
  },
  {
   "attachments": {},
   "cell_type": "markdown",
   "metadata": {
    "dotnet_interactive": {
     "language": "csharp"
    },
    "polyglot_notebook": {
     "kernelName": "csharp"
    }
   },
   "source": [
    "# Day 8"
   ]
  },
  {
   "cell_type": "code",
   "execution_count": 4,
   "metadata": {
    "dotnet_interactive": {
     "language": "csharp"
    },
    "vscode": {
     "languageId": "csharp"
    }
   },
   "outputs": [
    {
     "name": "stdout",
     "output_type": "stream",
     "text": [
      "1851\n",
      "574080\n"
     ]
    }
   ],
   "source": [
    "public class Day8 {\n",
    "\n",
    "    public class Forest {\n",
    "        public Forest(string[] data) {\n",
    "            _data = data;\n",
    "            _width = data[0].Length;\n",
    "            _height = data.Length;\n",
    "        }\n",
    "        private readonly int _width, _height;\n",
    "        private readonly string[] _data;\n",
    "\n",
    "        public IEnumerable<int> GetHeights(int x, int y, int dx, int dy) {\n",
    "            while(true) {\n",
    "                x += dx;\n",
    "                y += dy;\n",
    "                if(x < 0 || x >= _width) {\n",
    "                    yield break;\n",
    "                }\n",
    "                if(y < 0 || y >= _height) {\n",
    "                    yield break;\n",
    "                }\n",
    "                yield return GetHeight(x, y);\n",
    "            }\n",
    "        }\n",
    "\n",
    "        public int GetHeight(int x, int y) => (_data[y][x] - '0');\n",
    "\n",
    "        public bool IsVisible(int x, int y) {\n",
    "            if(x == 0 || x == _width - 1) {\n",
    "                return true;\n",
    "            }\n",
    "            if(y == 0 || y == _height - 1) {\n",
    "                return true;\n",
    "            }\n",
    "\n",
    "            var height = GetHeight(x, y);\n",
    "            foreach(var (dx, dy) in GetVector2is()) {\n",
    "                var visible = true;\n",
    "                foreach(var h in GetHeights(x, y, dx, dy)) {\n",
    "                    if(h >= height) {\n",
    "                        visible = false;\n",
    "                        break;\n",
    "                    }\n",
    "                }\n",
    "                if(visible) {\n",
    "                    //Console.WriteLine($\"Found inner tree: {x}, {y}\");\n",
    "                    return true;\n",
    "                }\n",
    "            }\n",
    "            return false;\n",
    "        }\n",
    "\n",
    "\n",
    "        public int GetScenicScore(int x, int y) {\n",
    "            var score = 1;\n",
    "            var builder = new StringBuilder();\n",
    "            builder.Append($\"ViewDistance ({x}, {y}):\");\n",
    "            foreach(var (dx, dy) in GetVector2is()) {\n",
    "                var distance = GetViewingDistance(x, y, dx, dy);\n",
    "                builder.Append($\"* {distance}\");\n",
    "                score *= distance;\n",
    "                \n",
    "            }\n",
    "            builder.Append($\" = {score}\");\n",
    "            //Console.WriteLine(builder.ToString());\n",
    "            return score;\n",
    "        }\n",
    "\n",
    "        public int GetViewingDistance(int x, int y, int dx, int dy) {\n",
    "            var distance = 0;\n",
    "            var height = GetHeight(x, y);\n",
    "            while(true) {\n",
    "                x += dx;\n",
    "                y += dy;\n",
    "                if(x < 0 || x >= _width) {\n",
    "                    return distance;\n",
    "                }\n",
    "                if(y < 0 || y >= _height) {\n",
    "                    return distance;\n",
    "                }\n",
    "                distance++;\n",
    "                if(GetHeight(x, y) >= height) {\n",
    "                    return distance;\n",
    "                }   \n",
    "            }\n",
    "        }\n",
    "\n",
    "        public IEnumerable<(int, int)> GetVector2is() {\n",
    "            yield return (0, -1);\n",
    "            yield return (-1, 0);\n",
    "            yield return (0, 1);\n",
    "            yield return (1, 0);\n",
    "        }\n",
    "\n",
    "        public int CountTreesVisibleFromOutside() {\n",
    "            var result = 0;\n",
    "            for(var x=0; x<_width; x++) {\n",
    "                for(var y=0; y<_height; y++) {\n",
    "                    if(IsVisible(x, y)) {\n",
    "                        result++;\n",
    "                    }\n",
    "                }\n",
    "            }\n",
    "            return result;\n",
    "        }\n",
    "\n",
    "        public int MaximumScenicScore() {\n",
    "            var score = 0;\n",
    "            for(var x=1; x<_width - 1; x++) {\n",
    "                for(var y=1; y<_height - 1; y++) {\n",
    "                    score = Math.Max(score, GetScenicScore(x, y));\n",
    "                }\n",
    "            }\n",
    "            return score;\n",
    "        }\n",
    "    }\n",
    "\n",
    "\n",
    "\n",
    "    public void Run1(string file) {\n",
    "        var lines = File.ReadAllLines(file);\n",
    "        var forest = new Forest(lines);\n",
    "        Console.WriteLine(forest.CountTreesVisibleFromOutside());\n",
    "    }\n",
    "\n",
    "    public void Run2(string file) {\n",
    "        var lines = File.ReadAllLines(file);\n",
    "        var forest = new Forest(lines);\n",
    "        Console.WriteLine(forest.MaximumScenicScore());        \n",
    "    }\n",
    "\n",
    "}\n",
    "\n",
    "new Day8().Run1(\"../data/in-8.txt\");\n",
    "new Day8().Run2(\"../data/in-8.txt\");"
   ]
  },
  {
   "attachments": {},
   "cell_type": "markdown",
   "metadata": {},
   "source": [
    "# Day 9"
   ]
  },
  {
   "cell_type": "code",
   "execution_count": 11,
   "metadata": {
    "vscode": {
     "languageId": "csharp"
    }
   },
   "outputs": [
    {
     "name": "stderr",
     "output_type": "stream",
     "text": [
      "\n",
      "(22,44): error CS1002: ; expected\n",
      "\n",
      "(85,37): error CS1002: ; expected\n",
      "\n"
     ]
    },
    {
     "ename": "Error",
     "evalue": "compilation error",
     "output_type": "error",
     "traceback": []
    },
    {
     "ename": "",
     "evalue": "",
     "output_type": "error",
     "traceback": [
      "\u001b[1;31mCanceled future for execute_request message before replies were done"
     ]
    },
    {
     "ename": "",
     "evalue": "",
     "output_type": "error",
     "traceback": [
      "\u001b[1;31mThe Kernel crashed while executing code in the the current cell or a previous cell. Please review the code in the cell(s) to identify a possible cause of the failure. Click <a href='https://aka.ms/vscodeJupyterKernelCrash'>here</a> for more info. View Jupyter <a href='command:jupyter.viewOutput'>log</a> for further details."
     ]
    }
   ],
   "source": [
    "public class Day9 {\n",
    "\n",
    "    public record struct Vector2i(int X, int Y) {\n",
    "        public static Vector2i Parse(char c) {\n",
    "            return c switch {\n",
    "                'U' => new Vector2i(0, -1),\n",
    "                'D' => new Vector2i(0, 1),\n",
    "                'L' => new Vector2i(-1, 0),\n",
    "                'R' => new Vector2i(1, 0),\n",
    "                _ => throw new ArgumentOutOfRangeException()\n",
    "            };\n",
    "        }\n",
    "\n",
    "        public double Distance(Vector2i other) => Math.Sqrt(X * other.X + Y * other.Y);\n",
    "\n",
    "        public Vector2i Add(Vector2i other) => new Vector2i(X + other.X, Y + other.Y);\n",
    "\n",
    "        public static Vector2i Min(Vector2i v1, Vector2i v2) => new Vector2i(Math.Min(v1.X, v2.X), Math.Min(v1.Y, v2.Y));\n",
    "\n",
    "        public static Vector2i Max(Vector2i v1, Vector2i v2) => new Vector2i(Math.Max(v1.X, v2.X), Math.Max(v1.Y, v2.Y));\n",
    "\n",
    "        public static IEnumerable Vector2i All(Vector2i v1, Vector2i v2) {\n",
    "            var min = Min(v1, v2);\n",
    "            var max = Max(v1, v2);\n",
    "            for(var y=min.Y; y<=max.Y; y++) {\n",
    "                for(var x=min.X; x<=max.X; x++) {\n",
    "                    yield return new(x, y);\n",
    "                }    \n",
    "            }\n",
    "        }\n",
    "\n",
    "        public static IEnumerable<Vector2i> All() => All(new(-1, -1), new(1, 1));\n",
    "\n",
    "        public static readonly Vector2i Zero = new();\n",
    "\n",
    "    }\n",
    "\n",
    "    public class Game {\n",
    "        public Game() {\n",
    "            _visited.Add(new Vector2i());\n",
    "        }\n",
    "\n",
    "        private readonly HashSet<Vector2i> _visited = new ();\n",
    "        private Vector2i _head;\n",
    "        private Vector2i _tail;\n",
    "\n",
    "        public void Move(string[] moves) {\n",
    "            foreach(var move in moves) {\n",
    "                Move(move);\n",
    "            }\n",
    "        }\n",
    "\n",
    "        public void Move(string move) {\n",
    "            // Decode move\n",
    "            Console.WriteLine($\"Applying move: {move}\");\n",
    "            var Vector2i = Vector2i.Parse(move[0]);\n",
    "            var amount = int.Parse(move.Substring(2));\n",
    "            for(var i=0; i<amount; i++) {\n",
    "                Move(Vector2i);\n",
    "            }\n",
    "            Print();\n",
    "            Console.WriteLine();\n",
    "        }\n",
    "\n",
    "        public void Move(Vector2i direction) {\n",
    "            _head = _head.Add(direction);\n",
    "            var distance = _head.Distance(_tail);\n",
    "            if(distance >= 1) {\n",
    "                var tailDirection = \n",
    "                    Vector2i\n",
    "                    .All()\n",
    "                    .OrderBy(d => _tail.Add(d).Distance(_head))\n",
    "                    .ThenBy(d => d.Distance(direction))\n",
    "                    .First();\n",
    "                _tail = _tail.Add(tailDirection);\n",
    "                _visited.Add(_tail);\n",
    "            }            \n",
    "        }\n",
    "\n",
    "        public int PlacesVisited() => _visited.Count;\n",
    "\n",
    "\n",
    "        public void Print() {\n",
    "            var builder = new StringBuilder();\n",
    "            var min = Vector2i.Max()\n",
    "\n",
    "\n",
    "            var min = Vector2i.Min(new(), Vector2i.Min(_head, _tail));\n",
    "            var max = Vector2i.Max(new(), Vector2i.Min(_head, _tail));\n",
    "            var prevY = min.Y;\n",
    "            foreach(var pos in Vector2i.All(min, max)) {\n",
    "                if(pos == _head) {\n",
    "                    builder.Append('H');\n",
    "                }\n",
    "                else if(pos == _tail) {\n",
    "                    builder.Append('T');\n",
    "                }\n",
    "                else if(pos == Vector2i.Zero) {\n",
    "                    builder.Append('s');\n",
    "                }\n",
    "                else {\n",
    "                    builder.Append('.');\n",
    "                }\n",
    "                \n",
    "                if(prevY != min.Y) {\n",
    "                    prevY = min.Y;\n",
    "                    builder.Append(Environment.NewLine);\n",
    "                }\n",
    "                    \n",
    "            }\n",
    "\n",
    "            Console.WriteLine(builder.ToString());\n",
    "        }\n",
    "    }\n",
    "\n",
    "    public void Run1(string file) {\n",
    "        var lines = File.ReadAllLines(file);\n",
    "        var game = new Game();\n",
    "        game.Move(lines);\n",
    "        Console.WriteLine(game.PlacesVisited());\n",
    "    }\n",
    "\n",
    "}\n",
    "\n",
    "new Day9().Run1(\"../data/test-9.txt\");"
   ]
  }
 ],
 "metadata": {
  "kernelspec": {
   "display_name": ".NET (C#)",
   "language": "C#",
   "name": ".net-csharp"
  },
  "language_info": {
   "file_extension": ".cs",
   "mimetype": "text/x-csharp",
   "name": "C#",
   "pygments_lexer": "csharp",
   "version": "11.0"
  },
  "polyglot_notebook": {
   "kernelInfo": {
    "defaultKernelName": "csharp",
    "items": [
     {
      "aliases": [
       "c#",
       "C#"
      ],
      "languageName": "C#",
      "name": "csharp"
     },
     {
      "aliases": [],
      "name": ".NET"
     },
     {
      "aliases": [
       "f#",
       "F#"
      ],
      "languageName": "F#",
      "name": "fsharp"
     },
     {
      "aliases": [],
      "languageName": "HTML",
      "name": "html"
     },
     {
      "aliases": [
       "js"
      ],
      "languageName": "JavaScript",
      "name": "javascript"
     },
     {
      "aliases": [],
      "languageName": "KQL",
      "name": "kql"
     },
     {
      "aliases": [],
      "languageName": "Mermaid",
      "name": "mermaid"
     },
     {
      "aliases": [
       "powershell"
      ],
      "languageName": "PowerShell",
      "name": "pwsh"
     },
     {
      "aliases": [],
      "languageName": "SQL",
      "name": "sql"
     },
     {
      "aliases": [],
      "name": "value"
     },
     {
      "aliases": [
       "frontend"
      ],
      "name": "vscode"
     },
     {
      "aliases": [],
      "name": "webview"
     }
    ]
   }
  }
 },
 "nbformat": 4,
 "nbformat_minor": 2
}
