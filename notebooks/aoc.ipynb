{
 "cells": [
  {
   "cell_type": "markdown",
   "metadata": {},
   "source": [
    "# Advent Of Code 2022"
   ]
  },
  {
   "cell_type": "code",
   "execution_count": 1,
   "metadata": {
    "vscode": {
     "languageId": "dotnet-interactive.csharp"
    }
   },
   "outputs": [],
   "source": [
    "using System.IO;"
   ]
  },
  {
   "cell_type": "markdown",
   "metadata": {},
   "source": [
    "## Day 1"
   ]
  },
  {
   "cell_type": "code",
   "execution_count": 2,
   "metadata": {
    "dotnet_interactive": {
     "language": "csharp"
    },
    "vscode": {
     "languageId": "dotnet-interactive.csharp"
    }
   },
   "outputs": [
    {
     "name": "stdout",
     "output_type": "stream",
     "text": [
      "69289\n"
     ]
    }
   ],
   "source": [
    "IEnumerable<int> ReadCalories() {\n",
    "    var total = 0;\n",
    "    foreach(var line in File.ReadLines(\"../data/in-1.txt\")) {\n",
    "        if(int.TryParse(line, out var value)) {\n",
    "            total += value;\n",
    "        }\n",
    "        else {\n",
    "            yield return total;\n",
    "            total = 0;\n",
    "        }\n",
    "    }\n",
    "    yield return total;\n",
    "}\n",
    "\n",
    "Console.WriteLine(ReadCalories().Max());"
   ]
  },
  {
   "cell_type": "markdown",
   "metadata": {},
   "source": [
    "# Day 3"
   ]
  },
  {
   "cell_type": "code",
   "execution_count": 5,
   "metadata": {
    "dotnet_interactive": {
     "language": "csharp"
    },
    "vscode": {
     "languageId": "dotnet-interactive.csharp"
    }
   },
   "outputs": [
    {
     "name": "stdout",
     "output_type": "stream",
     "text": [
      "7763\n"
     ]
    }
   ],
   "source": [
    "int GetPriority(string str) \n",
    "{\n",
    "    long contains = 0;\n",
    "    var half = str.Length / 2;\n",
    "    for(var i=0; i<half; i++) \n",
    "    {\n",
    "        var prio = GetPriority(str[i]);\n",
    "        var mask = 1L << prio;\n",
    "        contains |= mask;\n",
    "    }\n",
    "    for(var i=0; i<half; i++) \n",
    "    {\n",
    "        var prio = GetPriority(str[i + half]);\n",
    "        var mask = 1L << prio;\n",
    "        if((contains & mask) > 1) {\n",
    "            return prio;\n",
    "        }\n",
    "    }\n",
    "    return 0;\n",
    "}\n",
    "\n",
    "int GetPriority(char c) \n",
    "{\n",
    "    if(c > 'Z') \n",
    "    {\n",
    "        return (int)(c - 'a') + 1;\n",
    "    }\n",
    "    return (int)(c - 'A') + 27;\n",
    "}\n",
    "\n",
    "int Run(string file) {\n",
    "    return\n",
    "        File\n",
    "        .ReadLines(file)\n",
    "        .Select(l => GetPriority(l))\n",
    "        .Sum();\n",
    "}\n",
    "\n",
    "Console.WriteLine(Run(\"../data/in-3.txt\"));\n"
   ]
  }
 ],
 "metadata": {
  "kernelspec": {
   "display_name": ".NET (C#)",
   "language": "C#",
   "name": ".net-csharp"
  },
  "language_info": {
   "file_extension": ".cs",
   "mimetype": "text/x-csharp",
   "name": "C#",
   "pygments_lexer": "csharp",
   "version": "9.0"
  },
  "orig_nbformat": 4
 },
 "nbformat": 4,
 "nbformat_minor": 2
}
