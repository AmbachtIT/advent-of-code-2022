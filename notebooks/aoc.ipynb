{
 "cells": [
  {
   "cell_type": "markdown",
   "metadata": {},
   "source": [
    "# Advent Of Code 2022"
   ]
  },
  {
   "cell_type": "code",
   "execution_count": 1,
   "metadata": {
    "vscode": {
     "languageId": "dotnet-interactive.csharp"
    }
   },
   "outputs": [],
   "source": [
    "using System.IO;"
   ]
  },
  {
   "cell_type": "markdown",
   "metadata": {},
   "source": [
    "## Day 1"
   ]
  },
  {
   "cell_type": "code",
   "execution_count": 2,
   "metadata": {
    "dotnet_interactive": {
     "language": "csharp"
    },
    "vscode": {
     "languageId": "dotnet-interactive.csharp"
    }
   },
   "outputs": [
    {
     "name": "stdout",
     "output_type": "stream",
     "text": [
      "69289\n"
     ]
    }
   ],
   "source": [
    "IEnumerable<int> ReadCalories() {\n",
    "    var total = 0;\n",
    "    foreach(var line in File.ReadLines(\"../data/in-1.txt\")) {\n",
    "        if(int.TryParse(line, out var value)) {\n",
    "            total += value;\n",
    "        }\n",
    "        else {\n",
    "            yield return total;\n",
    "            total = 0;\n",
    "        }\n",
    "    }\n",
    "    yield return total;\n",
    "}\n",
    "\n",
    "Console.WriteLine(ReadCalories().Max());"
   ]
  },
  {
   "cell_type": "markdown",
   "metadata": {},
   "source": [
    "# Day 3"
   ]
  },
  {
   "cell_type": "code",
   "execution_count": 10,
   "metadata": {
    "dotnet_interactive": {
     "language": "csharp"
    },
    "vscode": {
     "languageId": "dotnet-interactive.csharp"
    }
   },
   "outputs": [
    {
     "name": "stdout",
     "output_type": "stream",
     "text": [
      "7763\n",
      "2569\n"
     ]
    }
   ],
   "source": [
    "public class Day3 {\n",
    "\n",
    "    int GetPriority(string str) \n",
    "    {\n",
    "        long contains = 0;\n",
    "        var half = str.Length / 2;\n",
    "        for(var i=0; i<half; i++) \n",
    "        {\n",
    "            var prio = GetPriority(str[i]);\n",
    "            var mask = 1L << prio;\n",
    "            contains |= mask;\n",
    "        }\n",
    "        for(var i=0; i<half; i++) \n",
    "        {\n",
    "            var prio = GetPriority(str[i + half]);\n",
    "            var mask = 1L << prio;\n",
    "            if((contains & mask) > 1) {\n",
    "                return prio;\n",
    "            }\n",
    "        }\n",
    "        return 0;\n",
    "    }\n",
    "    \n",
    "    int GetPriority(char c) \n",
    "    {\n",
    "        if(c > 'Z') \n",
    "        {\n",
    "            return (int)(c - 'a') + 1;\n",
    "        }\n",
    "        return (int)(c - 'A') + 27;\n",
    "    }\n",
    "    \n",
    "    int Run3_1(string file) {\n",
    "        return\n",
    "            File\n",
    "            .ReadLines(file)\n",
    "            .Select(l => GetPriority(l))\n",
    "            .Sum();\n",
    "    }\n",
    "\n",
    "    int GetPriority(string str1, string str2, string str3) \n",
    "    {\n",
    "        var chars = str1.Distinct().Concat(str2.Distinct()).Concat(str3.Distinct());\n",
    "        var c = \n",
    "            chars\n",
    "            .GroupBy(c => c)\n",
    "            .Single(g => g.Count() == 3)\n",
    "            .Key;\n",
    "        return GetPriority(c);\n",
    "    }\n",
    "    \n",
    "    \n",
    "    IEnumerable<int> Run3_2(string file) {\n",
    "        var lines = File.ReadLines(file).ToList();\n",
    "        for(var i=0; i<lines.Count; i+=3) {\n",
    "            yield return GetPriority(lines[i], lines[i+1], lines[i+2]);\n",
    "        }\n",
    "    }\n",
    "    \n",
    "\n",
    "    public void Run() {\n",
    "        Console.WriteLine(Run3_1(\"../data/in-3.txt\"));\n",
    "        Console.WriteLine(Run3_2(\"../data/in-3.txt\").Sum());\n",
    "    }\n",
    "}\n",
    "\n",
    "new Day3().Run();\n"
   ]
  }
 ],
 "metadata": {
  "kernelspec": {
   "display_name": ".NET (C#)",
   "language": "C#",
   "name": ".net-csharp"
  },
  "language_info": {
   "file_extension": ".cs",
   "mimetype": "text/x-csharp",
   "name": "C#",
   "pygments_lexer": "csharp",
   "version": "9.0"
  },
  "orig_nbformat": 4
 },
 "nbformat": 4,
 "nbformat_minor": 2
}
